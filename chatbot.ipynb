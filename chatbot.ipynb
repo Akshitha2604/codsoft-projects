{
  "cells": [
    {
      "cell_type": "markdown",
      "metadata": {
        "id": "view-in-github",
        "colab_type": "text"
      },
      "source": [
        "<a href=\"https://colab.research.google.com/github/Akshitha2604/codsoft-projects/blob/main/chatbot.ipynb\" target=\"_parent\"><img src=\"https://colab.research.google.com/assets/colab-badge.svg\" alt=\"Open In Colab\"/></a>"
      ]
    },
    {
      "cell_type": "code",
      "source": [
        "import re\n",
        "from datetime import datetime\n",
        "import random\n",
        "\n",
        "def get_response(user_input):\n",
        "    user_input = user_input.lower().strip()\n",
        "\n",
        "    # Greetings\n",
        "    if re.search(r'\\b(hi|hello|hey)\\b', user_input):\n",
        "        return \"Hello! How can I help you today?\"\n",
        "\n",
        "    # Asking about the chatbot\n",
        "    elif re.search(r'\\b(who are you|what are you)\\b', user_input):\n",
        "        return \"I'm a simple rule-based chatbot created in Python!\"\n",
        "\n",
        "    # Asking for help\n",
        "    elif re.search(r'\\b(help|support|assist)\\b', user_input):\n",
        "        return \"Sure, I can help. What do you need assistance with?\"\n",
        "\n",
        "    # Asking about time\n",
        "    elif re.search(r'\\b(time|clock)\\b', user_input):\n",
        "        return f\"The current time is {datetime.now().strftime('%H:%M:%S')}.\"\n",
        "\n",
        "    # Weather (placeholder)\n",
        "    elif re.search(r'\\b(weather|rain|sunny|forecast)\\b', user_input):\n",
        "        return \"I can't check real weather, but it looks like a nice day!\"\n",
        "\n",
        "    # Asking about emotions/feelings\n",
        "    elif re.search(r'\\b(how are you|how do you feel)\\b', user_input):\n",
        "        return \"I'm just a bunch of code, but I'm running smoothly!\"\n",
        "\n",
        "    # Asking about location\n",
        "    elif re.search(r'\\b(where are you|location|live)\\b', user_input):\n",
        "        return \"I live in the Python interpreter. It's cozy!\"\n",
        "\n",
        "    # Asking about Python\n",
        "    elif re.search(r'\\b(python|programming|code)\\b', user_input):\n",
        "        return \"Python is a powerful, beginner-friendly programming language. Do you want to learn it?\"\n",
        "\n",
        "    # Gratitude\n",
        "    elif re.search(r'\\b(thanks|thank you|thx)\\b', user_input):\n",
        "        return \"You're welcome! Happy to help.\"\n",
        "\n",
        "    # Goodbye\n",
        "    elif re.search(r'\\b(bye|goodbye|exit|quit)\\b', user_input):\n",
        "        return \"Goodbye! Have a great day!\"\n",
        "\n",
        "    # Default response\n",
        "    else:\n",
        "        return \"I'm sorry, I didn't understand that. Can you please rephrase?\"\n",
        "\n",
        "def chatbot():\n",
        "    print(\"Chatbot: Hello! Type 'bye' to exit.\")\n",
        "    while True:\n",
        "        user_input = input(\"You: \")\n",
        "        response = get_response(user_input)\n",
        "        print(f\"Chatbot: {response}\")\n",
        "        if re.search(r'\\b(bye|exit|quit)\\b', user_input.lower()):\n",
        "            break\n",
        "\n",
        "# Run the chatbot\n",
        "chatbot()\n"
      ],
      "metadata": {
        "colab": {
          "base_uri": "https://localhost:8080/"
        },
        "id": "fnW_PPA9mzvn",
        "outputId": "fd4ad2d9-893b-4d4b-b496-9f89517b70ee"
      },
      "execution_count": null,
      "outputs": [
        {
          "output_type": "stream",
          "name": "stdout",
          "text": [
            "Chatbot: Hello! Type 'bye' to exit.\n",
            "You: hi\n",
            "Chatbot: Hello! How can I help you today?\n",
            "You: who are you\n",
            "Chatbot: I'm a simple rule-based chatbot created in Python!\n",
            "You: can you help me\n",
            "Chatbot: Sure, I can help. What do you need assistance with?\n",
            "You: how do you feel\n",
            "Chatbot: I'm just a bunch of code, but I'm running smoothly!\n",
            "You: how's the weather today\n",
            "Chatbot: I can't check real weather, but it looks like a nice day!\n",
            "You: what's the time and date\n",
            "Chatbot: The current time is 13:56:26.\n",
            "You: where do you live\n",
            "Chatbot: I live in the Python interpreter. It's cozy!\n",
            "You: thank you\n",
            "Chatbot: You're welcome! Happy to help.\n",
            "You: bye\n",
            "Chatbot: Goodbye! Have a great day!\n"
          ]
        }
      ]
    }
  ],
  "metadata": {
    "colab": {
      "provenance": [],
      "authorship_tag": "ABX9TyNIMy523Kk4RKvaTbzh3gHo",
      "include_colab_link": true
    },
    "kernelspec": {
      "display_name": "Python 3",
      "name": "python3"
    },
    "language_info": {
      "name": "python"
    }
  },
  "nbformat": 4,
  "nbformat_minor": 0
}