{
  "nbformat": 4,
  "nbformat_minor": 0,
  "metadata": {
    "colab": {
      "provenance": [],
      "authorship_tag": "ABX9TyPIdEXQaW43BVuwjkXa8Wg8",
      "include_colab_link": true
    },
    "kernelspec": {
      "name": "python3",
      "display_name": "Python 3"
    },
    "language_info": {
      "name": "python"
    }
  },
  "cells": [
    {
      "cell_type": "markdown",
      "metadata": {
        "id": "view-in-github",
        "colab_type": "text"
      },
      "source": [
        "<a href=\"https://colab.research.google.com/github/Akshitha2604/codsoft-projects/blob/main/RecommendationSystem.ipynb\" target=\"_parent\"><img src=\"https://colab.research.google.com/assets/colab-badge.svg\" alt=\"Open In Colab\"/></a>"
      ]
    },
    {
      "cell_type": "code",
      "execution_count": 4,
      "metadata": {
        "colab": {
          "base_uri": "https://localhost:8080/"
        },
        "id": "Luy2uJbDnyTQ",
        "outputId": "92f88f98-e404-481c-bc9d-0279db25a9d2"
      },
      "outputs": [
        {
          "output_type": "stream",
          "name": "stdout",
          "text": [
            "👤 Available users: ['Alice', 'Bob', 'Charlie', 'Diana', 'Eve']\n",
            "Enter a user name: Charlie\n",
            "\n",
            "🎬 Recommended movies for Charlie:\n",
            "['Titanic']\n"
          ]
        }
      ],
      "source": [
        "\n",
        "!pip install -q pandas scikit-learn\n",
        "\n",
        "\n",
        "import pandas as pd\n",
        "from sklearn.metrics.pairwise import cosine_similarity\n",
        "from sklearn.preprocessing import StandardScaler\n",
        "\n",
        "\n",
        "data = {\n",
        "    'user_id': [1, 1, 1, 2, 2, 3, 3, 4, 5, 5],\n",
        "    'movie': ['Inception', 'Titanic', 'Avengers', 'Titanic', 'Avatar',\n",
        "              'Avengers', 'Inception', 'Avatar', 'Titanic', 'Inception'],\n",
        "    'rating': [5, 4, 4, 5, 4, 5, 4, 3, 4, 5]\n",
        "}\n",
        "\n",
        "df = pd.DataFrame(data)\n",
        "\n",
        "\n",
        "user_movie_matrix = df.pivot_table(index='user_id', columns='movie', values='rating')\n",
        "user_movie_matrix = user_movie_matrix.fillna(0)\n",
        "\n",
        "\n",
        "similarity_matrix = cosine_similarity(user_movie_matrix)\n",
        "similarity_df = pd.DataFrame(similarity_matrix, index=user_movie_matrix.index, columns=user_movie_matrix.index)\n",
        "\n",
        "\n",
        "!pip install -q pandas scikit-learn\n",
        "\n",
        "\n",
        "import pandas as pd\n",
        "from sklearn.metrics.pairwise import cosine_similarity\n",
        "\n",
        "\n",
        "data = {\n",
        "    'user_id': ['Alice', 'Alice', 'Alice', 'Bob', 'Bob', 'Charlie', 'Charlie', 'Diana', 'Eve', 'Eve'],\n",
        "    'movie': ['Inception', 'Titanic', 'Avengers', 'Titanic', 'Avatar',\n",
        "              'Avengers', 'Inception', 'Avatar', 'Titanic', 'Inception'],\n",
        "    'rating': [5, 4, 4, 5, 4, 5, 4, 3, 4, 5]\n",
        "}\n",
        "df = pd.DataFrame(data)\n",
        "\n",
        "\n",
        "user_movie_matrix = df.pivot_table(index='user_id', columns='movie', values='rating')\n",
        "user_movie_matrix = user_movie_matrix.fillna(0)\n",
        "\n",
        "\n",
        "similarity_matrix = cosine_similarity(user_movie_matrix)\n",
        "similarity_df = pd.DataFrame(similarity_matrix, index=user_movie_matrix.index, columns=user_movie_matrix.index)\n",
        "\n",
        "\n",
        "def recommend_movies(user_id, top_n=3):\n",
        "    if user_id not in user_movie_matrix.index:\n",
        "        return f\"User '{user_id}' not found.\"\n",
        "\n",
        "    sim_scores = similarity_df[user_id].drop(user_id)\n",
        "    similar_users = sim_scores.sort_values(ascending=False).index\n",
        "\n",
        "    user_ratings = user_movie_matrix.loc[user_id]\n",
        "    unseen_movies = user_ratings[user_ratings == 0].index\n",
        "\n",
        "    scores = {}\n",
        "    for movie in unseen_movies:\n",
        "        total_score, sim_sum = 0, 0\n",
        "        for other_user in similar_users:\n",
        "            rating = user_movie_matrix.loc[other_user, movie]\n",
        "            if rating > 0:\n",
        "                sim = similarity_df.loc[user_id, other_user]\n",
        "                total_score += sim * rating\n",
        "                sim_sum += sim\n",
        "        if sim_sum > 0:\n",
        "            scores[movie] = total_score / sim_sum\n",
        "\n",
        "    recommendations = sorted(scores.items(), key=lambda x: x[1], reverse=True)[:top_n]\n",
        "    return [movie for movie, score in recommendations]\n",
        "\n",
        "\n",
        "print(\"👤 Available users:\", list(user_movie_matrix.index))\n",
        "user_input = input(\"Enter a user name: \").strip()\n",
        "\n",
        "print(f\"\\n🎬 Recommended movies for {user_input}:\")\n",
        "print(recommend_movies(user_input))\n",
        "\n"
      ]
    }
  ]
}